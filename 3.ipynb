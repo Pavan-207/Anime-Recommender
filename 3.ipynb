{
 "cells": [
  {
   "cell_type": "code",
   "execution_count": 1,
   "metadata": {},
   "outputs": [],
   "source": [
    "from processing import Recommendation"
   ]
  },
  {
   "cell_type": "code",
   "execution_count": 2,
   "metadata": {},
   "outputs": [],
   "source": [
    "reccomendations = Recommendation()"
   ]
  },
  {
   "cell_type": "code",
   "execution_count": 3,
   "metadata": {},
   "outputs": [],
   "source": [
    "reccomendations.data_processing()\n"
   ]
  },
  {
   "cell_type": "code",
   "execution_count": 4,
   "metadata": {},
   "outputs": [],
   "source": [
    "reccomendations.recommendation_list()\n"
   ]
  },
  {
   "cell_type": "code",
   "execution_count": 13,
   "metadata": {},
   "outputs": [],
   "source": [
    "a = reccomendations.recommended_anime('naruto')"
   ]
  },
  {
   "cell_type": "code",
   "execution_count": 26,
   "metadata": {},
   "outputs": [
    {
     "data": {
      "text/plain": [
       "4"
      ]
     },
     "execution_count": 26,
     "metadata": {},
     "output_type": "execute_result"
    }
   ],
   "source": [
    "len(a)"
   ]
  },
  {
   "cell_type": "code",
   "execution_count": 33,
   "metadata": {},
   "outputs": [
    {
     "name": "stdout",
     "output_type": "stream",
     "text": [
      "Kajika\n",
      "manga\n",
      "Kajika's a trouble making little boy, part of the mysteriously empowered people of the ''Kawa'' clan. When one day he intentionally and cruelly kills a fox, the fox's spirit comes back and places a curse on the boy, turning him into a half-fox and severely limiting his abilities. The only way to break the curse is to save one thousand lives. And so Kajika sets out on a journey, accompanied by the fox's spirit. However, when he obtains the egg of the last remaining dragon on Earth, all hell breaks loose as he is forced to take on the forces of a merciless gangster who seeks the power that resides in a dragon's blood... While at the same time attempting to break the curse and finding out the rumours of what happened to his family of the Kawa clan.\n",
      "Seraph of the End: Vampire Reign\n",
      "manga\n",
      "In 2012, a virus wiped out 1/10 of the human population which allowed the vampires to take control and enslave what remained of the humanity. For the next four years, Yūichirō Hyakuya along with members of his orphanage are livestock for vampires but he and his friend Mikaela plan to change that. One night, they plan their escape along with the other children of the Hyakuya Orphanage which comes at a terrible cost. Losing all the members of his family, Yūichirō manages to escape to the outside world where he joins the Japanese Imperial Demon Army's Moon Demon Company in order to exact revenge on the vampires who killed his family.\n",
      "Dororo\n",
      "manga\n",
      "Dororo, a young orphan thief, falls into the company of Hyakkimaru, a powerful demon-hunting rōnin. Before Hyakkimaru's birth his father, a greedy feudal lord, made a pact with 48 demons and let them each take a piece of his unborn son's body, in return for granting him great power. Hyakkimaru was born a barely human creature—without arms, legs, eyes, ears, a nose, or a mouth—and his father had him thrown in the river. He was rescued and raised by Dr. Honma, who made him artificial limbs and helped him learn to fight the demons—each time he defeats one he reclaims one piece of his body. Now he and Dororo travel together through the war-torn countryside.\n",
      "Neji\n",
      "manga\n",
      "Neji and his fiancé were killed after getting caught up in an unfortunate kidnapping situation. After being cryogenically frozen by the GERA, the ESP research facility, for 40 years, Neji wakes up. It doesn’t take long for the GERA to discover Neji’s extremely powerful and unnatural powers and to make him into one of their mercenaries. However, Neji finds out his fiancé will be used as a guinea pig for the research facility's medical research and desperately tries to escape. In the second part, Neji encounters his nephew, who is also created from GERA and both begin on their journey through the future where human-like robots are used as slaves.\n"
     ]
    }
   ],
   "source": [
    "for i in range(len(a)):\n",
    "    print(a['Anime'][i])\n",
    "    print(a['Type'][i])\n",
    "    print(a['Summary'][i])"
   ]
  },
  {
   "cell_type": "code",
   "execution_count": null,
   "metadata": {},
   "outputs": [],
   "source": []
  }
 ],
 "metadata": {
  "kernelspec": {
   "display_name": "Python 3.9.12 ('base')",
   "language": "python",
   "name": "python3"
  },
  "language_info": {
   "codemirror_mode": {
    "name": "ipython",
    "version": 3
   },
   "file_extension": ".py",
   "mimetype": "text/x-python",
   "name": "python",
   "nbconvert_exporter": "python",
   "pygments_lexer": "ipython3",
   "version": "3.9.12"
  },
  "orig_nbformat": 4,
  "vscode": {
   "interpreter": {
    "hash": "a4153383d63e28132b6ee429af8634b604e4b46e12b5ebad593122e9694c3f90"
   }
  }
 },
 "nbformat": 4,
 "nbformat_minor": 2
}
