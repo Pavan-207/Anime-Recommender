{
 "cells": [
  {
   "cell_type": "code",
   "execution_count": 1,
   "metadata": {},
   "outputs": [],
   "source": [
    "from crypt import methods\n",
    "from urllib import request\n",
    "from flask import Flask, render_template, request\n",
    "from processing import Recommendation\n",
    "\n",
    "\n",
    "reccomendations = Recommendation()\n",
    "reccomendations.data_processing()\n",
    "reccomendations.recommendation_list()"
   ]
  },
  {
   "cell_type": "code",
   "execution_count": 12,
   "metadata": {},
   "outputs": [
    {
     "name": "stdout",
     "output_type": "stream",
     "text": [
      " * Serving Flask app \"__main__\" (lazy loading)\n",
      " * Environment: production\n",
      "\u001b[31m   WARNING: This is a development server. Do not use it in a production deployment.\u001b[0m\n",
      "\u001b[2m   Use a production WSGI server instead.\u001b[0m\n",
      " * Debug mode: off\n"
     ]
    },
    {
     "name": "stderr",
     "output_type": "stream",
     "text": [
      " * Running on http://127.0.0.1:5000/ (Press CTRL+C to quit)\n",
      "127.0.0.1 - - [11/Aug/2022 14:31:45] \"POST / HTTP/1.1\" 200 -\n",
      "127.0.0.1 - - [11/Aug/2022 14:31:45] \"GET /static/Anime.mp4 HTTP/1.1\" 206 -\n"
     ]
    }
   ],
   "source": [
    "app = Flask(__name__)\n",
    "@app.route('/')\n",
    "def index():\n",
    "    return render_template('index.html')\n",
    "\n",
    "@app.route('/', methods=['POST'])\n",
    "def getvalue():\n",
    "    name = request.form['Name']\n",
    "    data,name = reccomendations.recommended_anime(name)\n",
    "    anime_name = data['Anime']\n",
    "    anime_genre= data['Genre']\n",
    "    anime_summary = data['Summary']\n",
    "    return render_template('results.html',name=name[0], anime_name=anime_name,anime_genre=anime_genre,anime_summary=anime_summary)\n",
    "\n",
    "if __name__ == \"__main__\":\n",
    "    app.run()"
   ]
  },
  {
   "cell_type": "code",
   "execution_count": null,
   "metadata": {},
   "outputs": [],
   "source": []
  }
 ],
 "metadata": {
  "kernelspec": {
   "display_name": "Python 3.9.12 ('base')",
   "language": "python",
   "name": "python3"
  },
  "language_info": {
   "codemirror_mode": {
    "name": "ipython",
    "version": 3
   },
   "file_extension": ".py",
   "mimetype": "text/x-python",
   "name": "python",
   "nbconvert_exporter": "python",
   "pygments_lexer": "ipython3",
   "version": "3.9.12"
  },
  "orig_nbformat": 4,
  "vscode": {
   "interpreter": {
    "hash": "a4153383d63e28132b6ee429af8634b604e4b46e12b5ebad593122e9694c3f90"
   }
  }
 },
 "nbformat": 4,
 "nbformat_minor": 2
}
